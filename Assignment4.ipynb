{
  "nbformat": 4,
  "nbformat_minor": 0,
  "metadata": {
    "colab": {
      "name": "Assignment4.ipynb",
      "provenance": [],
      "collapsed_sections": [],
      "authorship_tag": "ABX9TyMABKR5spDxiMA5Bu1+vZTp",
      "include_colab_link": true
    },
    "kernelspec": {
      "name": "python3",
      "display_name": "Python 3"
    }
  },
  "cells": [
    {
      "cell_type": "markdown",
      "metadata": {
        "id": "view-in-github",
        "colab_type": "text"
      },
      "source": [
        "<a href=\"https://colab.research.google.com/github/sidhari14/Hello-world/blob/master/Assignment4.ipynb\" target=\"_parent\"><img src=\"https://colab.research.google.com/assets/colab-badge.svg\" alt=\"Open In Colab\"/></a>"
      ]
    },
    {
      "cell_type": "code",
      "metadata": {
        "id": "TplMFWg7VzA5",
        "colab_type": "code",
        "colab": {}
      },
      "source": [
        "#Question1.1\n",
        "class Sideoftri:\n",
        "  def __init__(self,a,b,c):\n",
        "    self.a = a\n",
        "    self.b = b\n",
        "    self.c = c"
      ],
      "execution_count": 1,
      "outputs": []
    },
    {
      "cell_type": "code",
      "metadata": {
        "id": "rtUKSk37XavI",
        "colab_type": "code",
        "colab": {}
      },
      "source": [
        "class computeArea(Sideoftri):\n",
        "  def __int__(self,*args):\n",
        "    super(computeArea,self).__init__(*args)\n",
        "  def area(self):\n",
        "    s = (self.a + self.b + self.c)/2\n",
        "    area = (s*(s-self.a)*(s-self.b)*(s-self.c)) ** 0.5\n",
        "    return area\n",
        "\n"
      ],
      "execution_count": 2,
      "outputs": []
    },
    {
      "cell_type": "code",
      "metadata": {
        "id": "TKQ4LN_GZtfI",
        "colab_type": "code",
        "colab": {
          "base_uri": "https://localhost:8080/",
          "height": 34
        },
        "outputId": "554e14e2-b59e-4639-f2c1-c62675b10d9b"
      },
      "source": [
        "if __name__=='__main__':\n",
        "       t1=computeArea(4,13,15)\n",
        "       print ('area = ',t1.area())"
      ],
      "execution_count": 4,
      "outputs": [
        {
          "output_type": "stream",
          "text": [
            "area =  24.0\n"
          ],
          "name": "stdout"
        }
      ]
    },
    {
      "cell_type": "code",
      "metadata": {
        "id": "-ZKRWil5Z4Um",
        "colab_type": "code",
        "colab": {}
      },
      "source": [
        "#Question 1.2\n",
        "\n",
        "def filter_long_words(string,number):\n",
        "    listwords = []\n",
        "    for i in range(len(string)):\n",
        "        if len(string[i]) > number:\n",
        "            listwords.append(string[i])\n",
        "    return listwords"
      ],
      "execution_count": 6,
      "outputs": []
    },
    {
      "cell_type": "code",
      "metadata": {
        "id": "3pFty40GbRqO",
        "colab_type": "code",
        "colab": {
          "base_uri": "https://localhost:8080/",
          "height": 34
        },
        "outputId": "27215fdc-9941-49d1-d1d6-e33914fd3d73"
      },
      "source": [
        "filter_long_words(['sidd','bro'],2)"
      ],
      "execution_count": 10,
      "outputs": [
        {
          "output_type": "execute_result",
          "data": {
            "text/plain": [
              "['sidd', 'bro']"
            ]
          },
          "metadata": {
            "tags": []
          },
          "execution_count": 10
        }
      ]
    },
    {
      "cell_type": "code",
      "metadata": {
        "id": "C1YQVgOmb8nl",
        "colab_type": "code",
        "colab": {
          "base_uri": "https://localhost:8080/",
          "height": 34
        },
        "outputId": "b963b1fc-81c1-4e20-84de-aa4225f0cfa7"
      },
      "source": [
        "#Question 2.1\n",
        "wordlist = [\"sidd\", \"is\", \"a\", \"beautiful\", \"person\"]\n",
        "\n",
        "def wordlength(wordlist):\n",
        " return list(map(lambda x: len(x), wordlist))\n",
        "\n",
        "print (\"word lengths in array => \" + str(wordlength(wordlist)))"
      ],
      "execution_count": 12,
      "outputs": [
        {
          "output_type": "stream",
          "text": [
            "word lengths in array => [4, 2, 1, 9, 6]\n"
          ],
          "name": "stdout"
        }
      ]
    },
    {
      "cell_type": "code",
      "metadata": {
        "id": "uYLXBNZ4c6rm",
        "colab_type": "code",
        "colab": {}
      },
      "source": [
        "#Question 2.2\n",
        "def Vowels(a):\n",
        "  if (a == 'a' or a == 'e' or a == 'i' or a == 'o' or a == 'u' or a == 'A' or a == 'E' or a == 'I' or a == 'O' or a == 'U'):\n",
        "    return True\n",
        "  else:\n",
        "    return False\n"
      ],
      "execution_count": 13,
      "outputs": []
    },
    {
      "cell_type": "code",
      "metadata": {
        "id": "A2sgXWzZeOEL",
        "colab_type": "code",
        "colab": {
          "base_uri": "https://localhost:8080/",
          "height": 34
        },
        "outputId": "19cc55ee-320a-4a92-abc4-adebb3162107"
      },
      "source": [
        "Vowels('a')"
      ],
      "execution_count": 14,
      "outputs": [
        {
          "output_type": "execute_result",
          "data": {
            "text/plain": [
              "True"
            ]
          },
          "metadata": {
            "tags": []
          },
          "execution_count": 14
        }
      ]
    },
    {
      "cell_type": "code",
      "metadata": {
        "id": "YP0IzNpDeQIU",
        "colab_type": "code",
        "colab": {
          "base_uri": "https://localhost:8080/",
          "height": 34
        },
        "outputId": "6783c323-fb69-408c-869b-4715fc00ce35"
      },
      "source": [
        "Vowels('A')"
      ],
      "execution_count": 15,
      "outputs": [
        {
          "output_type": "execute_result",
          "data": {
            "text/plain": [
              "True"
            ]
          },
          "metadata": {
            "tags": []
          },
          "execution_count": 15
        }
      ]
    },
    {
      "cell_type": "code",
      "metadata": {
        "id": "f0LOwng1eTnU",
        "colab_type": "code",
        "colab": {
          "base_uri": "https://localhost:8080/",
          "height": 34
        },
        "outputId": "326ed024-c8c8-41e8-ebcb-ba2d38e14409"
      },
      "source": [
        "Vowels('b')"
      ],
      "execution_count": 16,
      "outputs": [
        {
          "output_type": "execute_result",
          "data": {
            "text/plain": [
              "False"
            ]
          },
          "metadata": {
            "tags": []
          },
          "execution_count": 16
        }
      ]
    },
    {
      "cell_type": "code",
      "metadata": {
        "id": "xW4drr3eeV8L",
        "colab_type": "code",
        "colab": {}
      },
      "source": [
        ""
      ],
      "execution_count": null,
      "outputs": []
    }
  ]
}